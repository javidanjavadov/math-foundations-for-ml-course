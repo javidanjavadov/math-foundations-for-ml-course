{
    "cells": [
        {
            "cell_type": "markdown",
            "metadata": {},
            "source": [
                "# Algorithms with Matrices\n",
                "\n",
                "In this practice we are going to implement algorithms to work with matrices:\n",
                "- solving simple equations\n",
                "- inverting matrices\n",
                "- decomposing matrices to LU decompositions\n",
                "\n",
                "For these activities Gauss Elimination is our main tool. We will only work with matrices that do not require swapping the rows.\n",
                "\n",
                "We will also perform QR decomposition using Gramm-Schmidt orthonormalization method"
            ]
        },
        {
            "cell_type": "code",
            "execution_count": null,
            "metadata": {},
            "outputs": [],
            "source": [
                "import numpy as np\n",
                "import lovely_numpy as ln\n",
                "import json_tricks \n",
                "import matplotlib.pyplot as plt"
            ]
        },
        {
            "cell_type": "code",
            "execution_count": null,
            "metadata": {},
            "outputs": [],
            "source": [
                "np.random.seed(0)\n",
                "# --placeholder start --\n",
                "\n",
                "inputs = []\n",
                "for index in range(100):\n",
                "    N = np.random.randint(1, 10)\n",
                "    L = np.random.randint(size=(N, N), low=-10, high=10)\n",
                "    L = np.tril(L)\n",
                "    U = np.random.randint(size=(N, N), low=-10, high=10)\n",
                "    U = np.triu(U)\n",
                "    np.fill_diagonal(L, 1)\n",
                "    np.fill_diagonal(U, 1)\n",
                "    A = L @ U\n",
                "\n",
                "    x = np.random.randint(size=(N,), low=-10, high=10)\n",
                "    b = A @ x\n",
                "    inputs.append({'A': A, 'b': b})\n",
                "\n",
                "\n",
                "import os\n",
                "os.makedirs('inputs', exist_ok=True)\n",
                "json_tricks.dump(inputs, 'inputs/inputs.json')\n",
                "# --placeholder end --\n",
                "\n",
                "inputs = json_tricks.load('inputs/inputs.json')\n",
                "answer = {}"
            ]
        },
        {
            "cell_type": "markdown",
            "metadata": {},
            "source": [
                "# Task 1. Implement Gauss Elimination Stage I\n",
                "\n",
                "Your task here is to create an algorithm that will perfrom mutations of matrix $A$ that transform it to Upper-Triangular form $U$.\n",
                "\n",
                "$$\n",
                "\\begin{bmatrix}\n",
                "a_{11} & a_{12} & \\dots & a_{1N} \\\\\n",
                "a_{21} & a_{22} & \\dots & a_{2N} \\\\\n",
                "\\vdots & \\vdots & \\ddots & \\vdots \\\\\n",
                "a_{N1} & a_{N2} & \\dots & a_{NN}\n",
                "\\end{bmatrix}\n",
                "\n",
                "\\rightarrow\n",
                "\n",
                "\\begin{bmatrix}\n",
                "1 & a_{12}^* & \\dots & a_{1N}^* \\\\\n",
                "0 & 1 & \\dots & a_{2N}^* \\\\\n",
                "\\vdots & \\vdots & \\ddots & \\vdots \\\\\n",
                "0 & 0 & \\dots & 1\n",
                "\\end{bmatrix}\n",
                "$$\n",
                "\n",
                "Note that there should be unit diagonal after the 1 stage.\n",
                "\n",
                "The same mutations for rows as you do to the matrix $A$ should be done to the rows of matrix $B$. \n",
                "\n",
                "What can matrix $B$ be? It can be:\n",
                "- vector of right hand side $b$ (in that case we are solving the System of Linear Equations)\n",
                "- identity matrix (in that case we invert matrix)\n",
                "- actually, Stage I can be used as Stage II, and in that case right hand matrix can be some matrix from Stage I\n"
            ]
        },
        {
            "cell_type": "code",
            "execution_count": null,
            "metadata": {},
            "outputs": [],
            "source": [
                "import numpy as np\n",
                "\n",
                "def gauss_elimination(A, B):\n",
                "    A = A.copy().astype(float)\n",
                "    B = B.copy().astype(float)\n",
                "\n",
                "    for index in range(A.shape[1]):\n",
                "        for row in range(index + 1, A.shape[0]):\n",
                "            factor = A[row, index] / A[index, index]\n",
                "            A[row, index:] -= factor * A[index, index:]\n",
                "            B[row] -= factor * B[index]\n",
                "        \n",
                "        factor = A[index, index]\n",
                "        A[index] /= factor\n",
                "        B[index] /= factor\n",
                "    \n",
                "    return A, B\n"
            ]
        },
        {
            "cell_type": "code",
            "execution_count": null,
            "metadata": {},
            "outputs": [],
            "source": [
                "answer['gauss_elimination_1'] = [\n",
                "    gauss_elimination(A=input['A'], B=input['b']) for input in inputs\n",
                "]"
            ]
        },
        {
            "cell_type": "markdown",
            "metadata": {},
            "source": [
                "# Task 2: Solve System of Linear Equations (SLE)\n",
                "\n",
                "For the SLE given by matrix $A$ and right-hand vector $\\mathbf b$, implement a function that solves this SLE\n",
                "\n",
                "You will need to use twice Gauss Elimination Algorithm\n",
                "\n",
                "1. Apply it to matrix $A$ and to vector $\\mathbf b$ as matrix $B$ as Gauss Elimintaion I stage\n",
                "2. For Gauss Elimination II stage you can use the same algorithm by just applying it to reversed matrix \n",
                "\n",
                "    (by enumerating equations and variables in reversed order, we can rewrite the matrix $U$ in low-triangle form $L$). \n",
                "\n",
                "    Something has to be done to the right-hand side vector too\n",
                "3. Form the answer from output of Gauss Elimination Stage II"
            ]
        },
        {
            "cell_type": "code",
            "execution_count": null,
            "metadata": {},
            "outputs": [],
            "source": [
                "import numpy as np\n",
                "\n",
                "def solve_equation(A, b):\n",
                "    res = None\n",
                "\n",
                "    A1, b1 = gauss_elimination(A, b)\n",
                "\n",
                "    A2, b2 = gauss_elimination(A1[::-1, ::-1], b1[::-1])\n",
                "\n",
                "    res = b2[::-1]\n",
                "    \n",
                "    return res\n"
            ]
        },
        {
            "cell_type": "markdown",
            "metadata": {},
            "source": [
                "You can always check that your solution is correct by subtracting\n",
                "\n",
                "$A \\mathbf x - \\mathbf b$, which should give you $\\mathbf 0$\n",
                "\n",
                "By the way, matrix product, such as $A \\mathbf x$ in numpy is done using `A @ x` operation"
            ]
        },
        {
            "cell_type": "code",
            "execution_count": null,
            "metadata": {},
            "outputs": [],
            "source": [
                "answer['solutions'] = [\n",
                "    solve_equation(input['A'], input['b']) for input in inputs\n",
                "]\n",
                "\n",
                "print(inputs[0]['A'] @ answer['solutions'][0] - inputs[0]['b'])\n"
            ]
        },
        {
            "cell_type": "markdown",
            "metadata": {},
            "source": [
                "# Task 3: Find inverse of $A$\n",
                "\n",
                "Use the same approach as with solving SLE, but now instead of $\\mathbf b$ for right hand side, insert corresponding Identity matrix $I$ as input into Gaussian Elimination algorithm\n",
                "\n",
                "Identitiy matrix of size $N \\times N$ is built using `numpy.eye(N)` "
            ]
        },
        {
            "cell_type": "code",
            "execution_count": null,
            "metadata": {},
            "outputs": [],
            "source": [
                "import numpy as np\n",
                "\n",
                "def find_inverse(A):\n",
                "    res = None\n",
                "\n",
                "    # Apply Gauss Elimination to A with identity matrix as B\n",
                "    A1, B1 = gauss_elimination(A, np.eye(A.shape[0]))\n",
                "\n",
                "    # Apply Gauss Elimination to the reversed A1 and B1 matrices\n",
                "    A2, B2 = gauss_elimination(A1[::-1, ::-1], B1[::-1, ::-1])\n",
                "\n",
                "    # The result is the reversed B2 matrix, which is the inverse of A\n",
                "    res = B2[::-1, ::-1]\n",
                "    \n",
                "    return res"
            ]
        },
        {
            "cell_type": "markdown",
            "metadata": {},
            "source": [
                "You can always check that the matrix that you have found is indeed inverse to $A$ as $A^{-1} A = I$"
            ]
        },
        {
            "cell_type": "code",
            "execution_count": null,
            "metadata": {},
            "outputs": [],
            "source": [
                "answer['inverses'] = [\n",
                "    find_inverse(input['A']) for input in inputs\n",
                "]\n",
                "\n",
                "# Check if A * A_inv = I\n",
                "print(answer['inverses'][0] @ inputs[0]['A'])\n"
            ]
        },
        {
            "cell_type": "markdown",
            "metadata": {},
            "source": [
                "# Task 4: LU decomposition\n",
                "\n",
                "You can find LU decomposition of the matrix $A$ using Gauss Elimination. Again, it is done using 2 stages of Gauss Elimination:\n",
                "\n",
                "1. $A \\mathbf x = I \\mathbf b \\rightarrow U \\mathbf x = L^* \\mathbf b$\n",
                "\n",
                "2. $I U \\mathbf x = L^* \\mathbf b \\rightarrow L U \\mathbf x = I \\mathbf b$"
            ]
        },
        {
            "cell_type": "code",
            "execution_count": null,
            "metadata": {},
            "outputs": [],
            "source": [
                "import numpy as np\n",
                "\n",
                "def find_lu(A):\n",
                "    L, U = None, None\n",
                "\n",
                "    # Apply Gauss Elimination to A and identity matrix to get U and L\n",
                "    U1, L1 = gauss_elimination(A, np.eye(A.shape[0]))\n",
                "\n",
                "    # Apply Gauss Elimination to L1 to get the final L matrix\n",
                "    I2, L2 = gauss_elimination(L1, np.eye(A.shape[0]))\n",
                "\n",
                "    # The result is L and U matrices\n",
                "    L = L2\n",
                "    U = U1\n",
                "    \n",
                "    return L, U"
            ]
        },
        {
            "cell_type": "markdown",
            "metadata": {},
            "source": [
                "You can always check that your LU decomposition works as\n",
                "\n",
                "$LU - A = O$ (a zero matrix)"
            ]
        },
        {
            "cell_type": "code",
            "execution_count": null,
            "metadata": {},
            "outputs": [],
            "source": [
                "answer['LU'] = [\n",
                "    find_lu(input['A']) for input in inputs\n",
                "]\n",
                "\n",
                "# Check if LU = A\n",
                "print(answer['LU'][0][0] @ answer['LU'][0][1] - inputs[0]['A'])\n"
            ]
        },
        {
            "cell_type": "markdown",
            "metadata": {},
            "source": [
                "# QR decomposition\n",
                "\n",
                "Now again we will consider matrix $A^T$ in context of SLE:\n",
                "\n",
                "$A^T \\mathbf x = I \\mathbf b$\n",
                "\n",
                "Out of matrix $A$ we can make an orthonormal matrix $Q$ by orthonoramlizing the rows, this process will turn the $I$ matrix on the right to lower-triangular matrix $L^*$:\n",
                "\n",
                "$A^T \\mathbf x = I \\mathbf b \\rightarrow Q^T \\mathbf x = L^* \\mathbf b$\n",
                "\n",
                "After that we should invert matrix $L^*$ and we will get:\n",
                "\n",
                "$I Q^T \\mathbf x = L^* \\mathbf b \\rightarrow L Q^T \\mathbf x = \\mathbf b$\n",
                "\n",
                "If we transpose that matrix, we will get  QR decomposition of matrix $A$:\n",
                "\n",
                "$A = Q R,$\n",
                "\n",
                "where $R$ is upper-triangular matrix.\n",
                "\n",
                "The task is to:\n",
                "1. Implement Gramm-Schmidt orthonormalization procedure\n",
                "2. Combining Gramm-Schmidt algorithm and Gaussian Algorithm, implement QR decomposition"
            ]
        },
        {
            "cell_type": "markdown",
            "metadata": {},
            "source": [
                "# Task 5: Gramm-Schmidt Algorithm for Matrices\n",
                "\n",
                "Implement Gramm-Schmidt process for **rows** of matrix $A$ (and do the same transforms to matrix $B$)"
            ]
        },
        {
            "cell_type": "code",
            "execution_count": null,
            "metadata": {},
            "outputs": [],
            "source": [
                "import numpy as np\n",
                "\n",
                "def gramm_schmidt(A, B):\n",
                "    A = A.copy().astype(float)\n",
                "    B = B.copy().astype(float)\n",
                "\n",
                "    # Perform Gramm-Schmidt process for each row\n",
                "    for i in range(A.shape[1]):\n",
                "        for j in range(i):\n",
                "            factor = np.dot(A[i, :], A[j, :])\n",
                "            A[i, :] -= factor * A[j, :]\n",
                "            B[i, :] -= factor * B[j, :]\n",
                "        \n",
                "        # Normalize the row\n",
                "        factor = np.linalg.norm(A[i, :])\n",
                "        A[i, :] /= factor\n",
                "        B[i, :] /= factor\n",
                "    \n",
                "    return A, B\n"
            ]
        },
        {
            "cell_type": "code",
            "execution_count": null,
            "metadata": {},
            "outputs": [],
            "source": [
                "answer['gramm_schmidt'] = [\n",
                "    gramm_schmidt(input['A'], np.eye(input['A'].shape[0])) for input in inputs\n",
                "]\n",
                "\n",
                "\n",
                "print(\"===== Should be close to 1s: =====\")\n",
                "print((answer['gramm_schmidt'][0][0] ** 2).sum(axis=1))\n",
                "print()\n",
                "print(\"===== Should be close to L: =====\")\n",
                "print(answer['gramm_schmidt'][0][1])\n"
            ]
        },
        {
            "cell_type": "markdown",
            "metadata": {},
            "source": [
                "# Task 6: QR decomposition"
            ]
        },
        {
            "cell_type": "markdown",
            "metadata": {},
            "source": [
                "Implement QR decomposition algorithm. Note that we work on rows on matrix $A$ with our Gauss and Gramm-Schmidt algorithms, but QR decomposition is defined for column matrix "
            ]
        },
        {
            "cell_type": "code",
            "execution_count": null,
            "metadata": {},
            "outputs": [],
            "source": [
                "import numpy as np\n",
                "\n",
                "def find_qr(A):\n",
                "    B = np.eye(A.T.shape[0])\n",
                "\n",
                "    # Apply Gramm-Schmidt process on A.T and B\n",
                "    QT, L1 = gramm_schmidt(A.T, B)\n",
                "\n",
                "    # Apply Gauss Elimination to L1 to obtain R\n",
                "    I, LT = gauss_elimination(L1, np.eye(A.shape[0]))\n",
                "\n",
                "    # The result is Q and R\n",
                "    Q = QT.T\n",
                "    R = LT.T\n",
                "    \n",
                "    return Q, R\n"
            ]
        },
        {
            "cell_type": "code",
            "execution_count": null,
            "metadata": {},
            "outputs": [],
            "source": [
                "answer['QR'] = [\n",
                "    find_qr(input['A']) for input in inputs\n",
                "]\n",
                "\n",
                "# Check if Q * R = A\n",
                "print(answer['QR'][0][0] @ answer['QR'][0][1] - inputs[0]['A'])\n"
            ]
        },
        {
            "cell_type": "code",
            "execution_count": null,
            "metadata": {},
            "outputs": [],
            "source": [
                "json_tricks.dump(answer, '.answer.json')"
            ]
        }
    ],
    "metadata": {
        "kernelspec": {
            "display_name": "Python 3",
            "language": "python",
            "name": "python3"
        },
        "language_info": {
            "codemirror_mode": {
                "name": "ipython",
                "version": 3
            },
            "file_extension": ".py",
            "mimetype": "text/x-python",
            "name": "python",
            "nbconvert_exporter": "python",
            "pygments_lexer": "ipython3",
            "version": "3.13.2"
        }
    },
    "nbformat": 4,
    "nbformat_minor": 2
}
