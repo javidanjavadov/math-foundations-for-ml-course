{
 "cells": [
  {
   "cell_type": "markdown",
   "metadata": {},
   "source": [
    "# Numpy Practice\n",
    "\n",
    "In this task we will work with the following tensors:\n",
    "\n",
    "1. <img src=\"images\\img.png\" width=\"350\" />\n",
    "2. <img src=\"images\\img_1.png\" width=\"350\" />\n",
    "3. <img src=\"images\\img_2.png\" width=\"350\" />\n",
    "4. <img src=\"images\\img_3.png\" width=\"350\" />"
   ]
  },
  {
   "cell_type": "code",
   "execution_count": 1,
   "metadata": {
    "execution": {
     "iopub.execute_input": "2025-03-10T17:45:55.257170Z",
     "iopub.status.busy": "2025-03-10T17:45:55.254628Z",
     "iopub.status.idle": "2025-03-10T17:45:56.944658Z",
     "shell.execute_reply": "2025-03-10T17:45:56.943777Z"
    }
   },
   "outputs": [],
   "source": [
    "import numpy as np\n",
    "import json_tricks\n",
    "import lovely_numpy as ln"
   ]
  },
  {
   "cell_type": "code",
   "execution_count": 2,
   "metadata": {
    "execution": {
     "iopub.execute_input": "2025-03-10T17:45:56.947709Z",
     "iopub.status.busy": "2025-03-10T17:45:56.947384Z",
     "iopub.status.idle": "2025-03-10T17:45:56.951490Z",
     "shell.execute_reply": "2025-03-10T17:45:56.950586Z"
    }
   },
   "outputs": [],
   "source": [
    "answer = {}"
   ]
  },
  {
   "cell_type": "markdown",
   "metadata": {},
   "source": [
    "For the sake of visualization, I will add a vector `x` below on which I will demonstrate how operations wit vectors work. Your task will be to apply necessary fucntions where it is needed to do so."
   ]
  },
  {
   "cell_type": "code",
   "execution_count": 3,
   "metadata": {
    "execution": {
     "iopub.execute_input": "2025-03-10T17:45:56.954414Z",
     "iopub.status.busy": "2025-03-10T17:45:56.954122Z",
     "iopub.status.idle": "2025-03-10T17:45:56.958742Z",
     "shell.execute_reply": "2025-03-10T17:45:56.957831Z"
    }
   },
   "outputs": [],
   "source": [
    "x = np.array([0, 1, 2, 3, 4, 5]) ** 2"
   ]
  },
  {
   "cell_type": "markdown",
   "metadata": {},
   "source": [
    "# 1. Build numpy vectors"
   ]
  },
  {
   "cell_type": "markdown",
   "metadata": {},
   "source": [
    "Firstly let us write numpy for the vectors that are enumerated in the task in form of list of numpy tensors\n",
    "\n",
    "For instance, for the vector \n",
    "$$\\mathbf x = \n",
    "\\begin{bmatrix}\n",
    "1 \\\\\n",
    "2 \\\\\n",
    "3 \n",
    "\\end{bmatrix},$$\n",
    "the answer should be ```np.array([1, 2, 3])```."
   ]
  },
  {
   "cell_type": "code",
   "execution_count": null,
   "metadata": {
    "execution": {
     "iopub.execute_input": "2025-03-10T17:45:56.961658Z",
     "iopub.status.busy": "2025-03-10T17:45:56.961405Z",
     "iopub.status.idle": "2025-03-10T17:45:56.964745Z",
     "shell.execute_reply": "2025-03-10T17:45:56.963986Z"
    }
   },
   "outputs": [],
   "source": [
    "answer['vectors'] = [\n",
    "    np.array([0]),                      # Görsel 1: 0²\n",
    "    np.array([1, 4]),                   # Görsel 2: 1², 2²\n",
    "    np.array([9, 16, 25]),              # Görsel 3: 3²,4²,5²\n",
    "    np.array([36, 49, 64, 81, 100, 121, 144, 169, 196])  # Görsel 4: 6²'den 14²'ye\n",
    "]"
   ]
  },
  {
   "cell_type": "markdown",
   "metadata": {},
   "source": [
    "# 2. Get operations with vectors (slicing)\n",
    "\n",
    "Vectors you can:\n",
    "- index\n",
    "    - `x[3]` (returns corresponding coordinate)\n",
    "\n",
    "- slice, \n",
    "    - `x[2:4]` (returns vector of corresponding coordinates from 2nd to 4th (non-inlusively))\n",
    "    - `x[:3]` (extractsall coordinates up to 3rd)\n",
    "    - `x[3:]` (extracts coordinates from 3rd an further)\n",
    "\n",
    "- slice with stride\n",
    "    - `x[1:5:2]` (extracts all the coordinates from 1st to 5th (non-inclusively) with stride 2)\n",
    "    - `x[::2]` (extracts every second coordinate)\n",
    "    - `x[::-1]` (inverts a vector due to -1 stride)\n",
    "\n",
    "- index a vector with another vector or list\n",
    "    - `x[[1, 2, 5]]` will output 1st, 2nd and 5th coordinates\n",
    "\n",
    "- index a vector using a binary mask, for instance\n",
    "    - `x[x > 4]` will get all of the coordinates that are larger than 4 (`x > 4` returns `[False, False, False, True, True, True]`) "
   ]
  },
  {
   "cell_type": "code",
   "execution_count": 5,
   "metadata": {
    "execution": {
     "iopub.execute_input": "2025-03-10T17:45:56.967421Z",
     "iopub.status.busy": "2025-03-10T17:45:56.967175Z",
     "iopub.status.idle": "2025-03-10T17:45:56.975322Z",
     "shell.execute_reply": "2025-03-10T17:45:56.973359Z"
    }
   },
   "outputs": [
    {
     "name": "stdout",
     "output_type": "stream",
     "text": [
      "x :\t\t [ 0  1  4  9 16 25]\n",
      "x[3] :\t\t 9\n",
      "x[2:4] :\t [4 9]\n",
      "x[:3] :\t\t [0 1 4]\n",
      "x[3:] :\t\t [ 9 16 25]\n",
      "x[1:5:2] :\t [1 9]\n",
      "x[2:] :\t\t [ 4  9 16 25]\n",
      "x[::2] :\t [ 0  4 16]\n",
      "x[::-1] :\t [25 16  9  4  1  0]\n",
      "x[[1, 2, 5]] :\t [ 1  4 25]\n",
      "x[x > 4] :\t [ 9 16 25]\n"
     ]
    }
   ],
   "source": [
    "print('x :\\t\\t',  x)\n",
    "print('x[3] :\\t\\t', x[3])\n",
    "print('x[2:4] :\\t', x[2:4] )\n",
    "print('x[:3] :\\t\\t', x[:3])\n",
    "print('x[3:] :\\t\\t', x[3:])\n",
    "print('x[1:5:2] :\\t', x[1:5:2])\n",
    "print('x[2:] :\\t\\t', x[2:])\n",
    "print('x[::2] :\\t', x[::2])\n",
    "print('x[::-1] :\\t', x[::-1])\n",
    "print('x[[1, 2, 5]] :\\t', x[[1, 2, 5]])\n",
    "print('x[x > 4] :\\t', x[x > 4])\n"
   ]
  },
  {
   "cell_type": "markdown",
   "metadata": {},
   "source": [
    "## Task\n",
    "\n",
    "For exercise, create a list containing:\n",
    "- 0th coordinate of last vector in the exercise\n",
    "- last coordinate of last vector in the exercise\n",
    "- all coordinates with even indices of the last vector in the exercise\n",
    "- all coordinates with odd indices of the last vector in the exercise\n",
    "- inverted last vector\n",
    "- 1st, 0th and 4th coordinates of vector in vector"
   ]
  },
  {
   "cell_type": "code",
   "execution_count": null,
   "metadata": {
    "execution": {
     "iopub.execute_input": "2025-03-10T17:45:57.019377Z",
     "iopub.status.busy": "2025-03-10T17:45:57.019090Z",
     "iopub.status.idle": "2025-03-10T17:45:57.023471Z",
     "shell.execute_reply": "2025-03-10T17:45:57.022516Z"
    }
   },
   "outputs": [],
   "source": [
    "last_vector = answer['vectors'][-1]\n",
    "answer['slices'] = [\n",
    "    last_vector[0],           # 36\n",
    "    last_vector[-1],          # 196\n",
    "    last_vector[::2],         # [36, 64, 100, 144, 196]\n",
    "    last_vector[1::2],        # [49, 81, 121, 169]\n",
    "    last_vector[::-1],        # [196, 169, 144, 121, 100, 81, 64, 49, 36]\n",
    "    last_vector[[1, 0, 4]]    # [49, 36, 100]\n",
    "]\n"
   ]
  },
  {
   "cell_type": "markdown",
   "metadata": {},
   "source": [
    "# 3. Get operations for vectors"
   ]
  },
  {
   "cell_type": "markdown",
   "metadata": {},
   "source": [
    "- set and get values with index operators \n",
    "    - `x[3] = 1` -- your vector 3rd coordinate will be set to 1\n",
    "    - `x[2:5] = 1` -- sets all of the coordinates from 2nd to 5th to 1\n",
    "    - you can use any other indexing method to set the coordinates to a specified value\n",
    "\n",
    "\n",
    "It is very important to remember that by default numpy copies are **shallow**, meaning that code\n",
    "```\n",
    "y = x\n",
    "y[1] = 3\n",
    "```\n",
    "\n",
    "whill change 1st coordinate for vector named `x` as `x` and `y` ar basically the same vector with two names\n",
    "\n",
    "To avoid this, there is a `x.copy()` method"
   ]
  },
  {
   "cell_type": "code",
   "execution_count": 7,
   "metadata": {
    "execution": {
     "iopub.execute_input": "2025-03-10T17:45:57.027011Z",
     "iopub.status.busy": "2025-03-10T17:45:57.026749Z",
     "iopub.status.idle": "2025-03-10T17:45:57.032241Z",
     "shell.execute_reply": "2025-03-10T17:45:57.031434Z"
    }
   },
   "outputs": [
    {
     "name": "stdout",
     "output_type": "stream",
     "text": [
      "Shallow copy\n",
      "x [ 0  1  4  9 16 25]\n",
      "y [ 0  1  4  9 16 25]\n",
      "x [10  1  4  9 16 25]\n",
      "y [10  1  4  9 16 25]\n",
      "Deep copy\n",
      "x [ 0  1  4  9 16 25]\n",
      "y [10  1  4  9 16 25]\n"
     ]
    }
   ],
   "source": [
    "print('Shallow copy')\n",
    "print('x', x)\n",
    "y = x\n",
    "print('y', y)\n",
    "y[0] = 10\n",
    "print('x', x)\n",
    "print('y', y)\n",
    "\n",
    "x[0] = 0\n",
    "\n",
    "print('Deep copy')\n",
    "y = x.copy()\n",
    "y[0] = 10\n",
    "print('x', x)\n",
    "print('y', y)\n"
   ]
  },
  {
   "cell_type": "markdown",
   "metadata": {},
   "source": [
    "## Task \n",
    "\n",
    "For the last vector create deep copies with:\n",
    "- 3rd coordinate set to 1\n",
    "- 2-4th coordinates including the last set to 10\n",
    "- Every even coordinate set to 2\n",
    "- Every odd coordinate set to 3\n",
    "- Last coordinate set to -1\n",
    "- 0, 1 and last coordinates set to -10\n",
    "- All coordinates that are smaller than 1 should be set to 0"
   ]
  },
  {
   "cell_type": "code",
   "execution_count": null,
   "metadata": {
    "execution": {
     "iopub.execute_input": "2025-03-10T17:45:57.035028Z",
     "iopub.status.busy": "2025-03-10T17:45:57.034789Z",
     "iopub.status.idle": "2025-03-10T17:45:57.038393Z",
     "shell.execute_reply": "2025-03-10T17:45:57.037632Z"
    }
   },
   "outputs": [],
   "source": [
    "last_vector_original = answer['vectors'][-1].copy()\n",
    "answer['deep_copy'] = [last_vector_original.copy() for _ in range(7)]\n",
    "\n",
    "# Modifikasyonlar\n",
    "answer['deep_copy'][0][2] = 1\n",
    "answer['deep_copy'][1][2:5] = 10  # Düzeltme: 2-4 aralığı için 2:5\n",
    "answer['deep_copy'][2][::2] = 2\n",
    "answer['deep_copy'][3][1::2] = 3\n",
    "answer['deep_copy'][4][-1] = -1\n",
    "answer['deep_copy'][5][[0,1,-1]] = -10\n",
    "answer['deep_copy'][6][answer['deep_copy'][6] < 1] = 0"
   ]
  },
  {
   "cell_type": "markdown",
   "metadata": {},
   "source": [
    "# 4. Checking properties for Numpy arrays"
   ]
  },
  {
   "cell_type": "markdown",
   "metadata": {},
   "source": [
    "You can check properties of an array `x` with the following commands:\n",
    "- `x.shape` checks shape of array\n",
    "- `x.ndim` checks number of dimensions of an array (is it 1d table or 2d table, or 3d table)\n",
    "- `x.size` checks number of elements\n",
    "- `x.dtype` checks data type of the elements\n",
    "- `x.itemsize` checks number of bits for every element\n",
    "- `x.nbytes` checks whole memory occupied by the array"
   ]
  },
  {
   "cell_type": "code",
   "execution_count": 9,
   "metadata": {
    "execution": {
     "iopub.execute_input": "2025-03-10T17:45:57.041906Z",
     "iopub.status.busy": "2025-03-10T17:45:57.041651Z",
     "iopub.status.idle": "2025-03-10T17:45:57.045680Z",
     "shell.execute_reply": "2025-03-10T17:45:57.044932Z"
    }
   },
   "outputs": [
    {
     "name": "stdout",
     "output_type": "stream",
     "text": [
      "x.shape : \t (6,)\n",
      "x.ndim : \t 1\n",
      "x.size : \t 6\n",
      "x.dtype : \t int64\n",
      "x.itemsize : \t 8\n",
      "x.nbytes : \t 48\n"
     ]
    }
   ],
   "source": [
    "print('x.shape : \\t', x.shape)\n",
    "print('x.ndim : \\t', x.ndim)\n",
    "print('x.size : \\t', x.size)\n",
    "print('x.dtype : \\t', x.dtype)\n",
    "print('x.itemsize : \\t', x.itemsize)\n",
    "print('x.nbytes : \\t', x.nbytes)\n"
   ]
  },
  {
   "cell_type": "markdown",
   "metadata": {},
   "source": [
    "## Task\n",
    "\n",
    "Check sizes of all arrays in `vectors` and return them as answer"
   ]
  },
  {
   "cell_type": "code",
   "execution_count": null,
   "metadata": {
    "execution": {
     "iopub.execute_input": "2025-03-10T17:45:57.048207Z",
     "iopub.status.busy": "2025-03-10T17:45:57.047979Z",
     "iopub.status.idle": "2025-03-10T17:45:57.051224Z",
     "shell.execute_reply": "2025-03-10T17:45:57.050438Z"
    }
   },
   "outputs": [],
   "source": [
    "answer['shapes'] = [v.shape for v in answer['vectors']]\n"
   ]
  },
  {
   "cell_type": "markdown",
   "metadata": {},
   "source": [
    "# 5. Shaping arrays\n",
    "\n",
    "You can flatten or reshape numpy arrays as soon as it has enough elements to fit all the shape\n",
    "\n",
    "For example, vector `x` can be converted to shape `[2, 3]` and `[3, 2]`\n",
    "\n",
    "It is possible to replace one of the dimensionalities with `-1` so that it is dynamically determined from the number of elements of initial tensor"
   ]
  },
  {
   "cell_type": "code",
   "execution_count": 11,
   "metadata": {
    "execution": {
     "iopub.execute_input": "2025-03-10T17:45:57.054411Z",
     "iopub.status.busy": "2025-03-10T17:45:57.053855Z",
     "iopub.status.idle": "2025-03-10T17:45:57.060070Z",
     "shell.execute_reply": "2025-03-10T17:45:57.059216Z"
    }
   },
   "outputs": [
    {
     "name": "stdout",
     "output_type": "stream",
     "text": [
      "x.reshape([2, 3]) :\n",
      " [[ 0  1  4]\n",
      " [ 9 16 25]]\n",
      "x.reshape([3, 2]) :\n",
      " [[ 0  1]\n",
      " [ 4  9]\n",
      " [16 25]]\n",
      "x.reshape([2, -1]) :\n",
      " [[ 0  1  4]\n",
      " [ 9 16 25]]\n",
      "x.reshape([3, -1]) :\n",
      " [[ 0  1]\n",
      " [ 4  9]\n",
      " [16 25]]\n"
     ]
    }
   ],
   "source": [
    "print('x.reshape([2, 3]) :\\n', x.reshape([2, 3]))\n",
    "print('x.reshape([3, 2]) :\\n', x.reshape([3, 2]))\n",
    "\n",
    "print('x.reshape([2, -1]) :\\n', x.reshape([2, -1]))\n",
    "print('x.reshape([3, -1]) :\\n', x.reshape([3, -1]))"
   ]
  },
  {
   "cell_type": "markdown",
   "metadata": {},
   "source": [
    "## Task\n",
    "\n",
    "Reshape last vector to the shape `[3, 3]`"
   ]
  },
  {
   "cell_type": "code",
   "execution_count": null,
   "metadata": {
    "execution": {
     "iopub.execute_input": "2025-03-10T17:45:57.062724Z",
     "iopub.status.busy": "2025-03-10T17:45:57.062417Z",
     "iopub.status.idle": "2025-03-10T17:45:57.065830Z",
     "shell.execute_reply": "2025-03-10T17:45:57.065027Z"
    }
   },
   "outputs": [],
   "source": [
    "answer['reshaped'] = [answer['vectors'][-1].reshape(3, 3)]\n"
   ]
  },
  {
   "cell_type": "markdown",
   "metadata": {},
   "source": [
    "# 6. Slicing ND Arrays\n",
    "\n",
    "We have recieved 2D array. You can work in numpy with 1D (vectors), 2D (matrices) and N-dimensional (tensors) arrays in the same way and using the same functions as for 1D arrays with one small exception: you can slice them with several slices.\n",
    "\n",
    "For examplem for array\n",
    "\n",
    "```\n",
    "y = x.reshape([2, 3])\n",
    "```\n",
    "\n",
    "You can do the following slicing:\n",
    "\n",
    "```\n",
    "y[:, 1:]\n",
    "```\n",
    "That will select all the elements from all the rows (1st `:` indexing) and all the elements from the columns starting from 1st colom (second `1:` indexing):"
   ]
  },
  {
   "cell_type": "code",
   "execution_count": 13,
   "metadata": {
    "execution": {
     "iopub.execute_input": "2025-03-10T17:45:57.068376Z",
     "iopub.status.busy": "2025-03-10T17:45:57.068147Z",
     "iopub.status.idle": "2025-03-10T17:45:57.073885Z",
     "shell.execute_reply": "2025-03-10T17:45:57.072574Z"
    }
   },
   "outputs": [
    {
     "name": "stdout",
     "output_type": "stream",
     "text": [
      "y : \n",
      " [[ 0  1  4]\n",
      " [ 9 16 25]]\n",
      "y[:, 1:] :  \n",
      " [[ 1  4]\n",
      " [16 25]]\n"
     ]
    }
   ],
   "source": [
    "y = x.reshape([2, 3])\n",
    "print('y : \\n', y)\n",
    "print('y[:, 1:] :  \\n', y[:, 1:])"
   ]
  },
  {
   "cell_type": "markdown",
   "metadata": {},
   "source": [
    "## Task\n",
    "\n",
    "Reshape your last vector to $3 \\times 3$ matrix and select \n",
    "- first two columns\n",
    "- firts two rows\n",
    "- first and last rows\n",
    "- first and last columns"
   ]
  },
  {
   "cell_type": "code",
   "execution_count": null,
   "metadata": {
    "execution": {
     "iopub.execute_input": "2025-03-10T17:45:57.076886Z",
     "iopub.status.busy": "2025-03-10T17:45:57.076634Z",
     "iopub.status.idle": "2025-03-10T17:45:57.080867Z",
     "shell.execute_reply": "2025-03-10T17:45:57.079341Z"
    }
   },
   "outputs": [],
   "source": [
    "reshaped = answer['reshaped'][0]\n",
    "answer['sliced_reshaped'] = [\n",
    "    reshaped[:, :2],   # İlk iki sütun\n",
    "    reshaped[:2, :],   # İlk iki satır\n",
    "    reshaped[[0, -1], :], # İlk ve son satır\n",
    "    reshaped[:, [0, -1]]  # İlk ve son sütun\n",
    "]"
   ]
  },
  {
   "cell_type": "markdown",
   "metadata": {},
   "source": [
    "# 6. Changing array dtype"
   ]
  },
  {
   "cell_type": "markdown",
   "metadata": {},
   "source": [
    "You can also change dtype of the arrays, for instance `x.astype('int8')` will convert `x` to `int8`"
   ]
  },
  {
   "cell_type": "code",
   "execution_count": 15,
   "metadata": {
    "execution": {
     "iopub.execute_input": "2025-03-10T17:45:57.084170Z",
     "iopub.status.busy": "2025-03-10T17:45:57.083945Z",
     "iopub.status.idle": "2025-03-10T17:45:57.088317Z",
     "shell.execute_reply": "2025-03-10T17:45:57.087544Z"
    }
   },
   "outputs": [
    {
     "name": "stdout",
     "output_type": "stream",
     "text": [
      "x :  [ 0  1  4  9 16 25]\n",
      "x.astype('int8') :  [ 0  1  4  9 16 25]\n",
      "x.astype('int8') :  [False  True  True  True  True  True]\n"
     ]
    }
   ],
   "source": [
    "print('x : ', x)\n",
    "print(\"x.astype('int8') : \", x.astype('int8'))\n",
    "print(\"x.astype('int8') : \", x.astype('bool'))"
   ]
  },
  {
   "cell_type": "markdown",
   "metadata": {},
   "source": [
    "## Task\n",
    "\n",
    "Turn all of your vectors to boolean and then to float32"
   ]
  },
  {
   "cell_type": "code",
   "execution_count": null,
   "metadata": {
    "execution": {
     "iopub.execute_input": "2025-03-10T17:45:57.091848Z",
     "iopub.status.busy": "2025-03-10T17:45:57.091567Z",
     "iopub.status.idle": "2025-03-10T17:45:57.095411Z",
     "shell.execute_reply": "2025-03-10T17:45:57.094526Z"
    }
   },
   "outputs": [],
   "source": [
    "answer['bool'] = [v.astype(bool).astype(np.float32) for v in answer['vectors']]\n"
   ]
  },
  {
   "cell_type": "markdown",
   "metadata": {},
   "source": [
    "# 7. Very useful visualization\n",
    "\n",
    "There is a very conveniet lib that helps reading large arrays, it is called `lovely_numpy` (and there is `lovely_tensors` for torch tensors)\n",
    "\n",
    "You can print all the important info about your tensor using it:"
   ]
  },
  {
   "cell_type": "code",
   "execution_count": 17,
   "metadata": {
    "execution": {
     "iopub.execute_input": "2025-03-10T17:45:57.098182Z",
     "iopub.status.busy": "2025-03-10T17:45:57.097946Z",
     "iopub.status.idle": "2025-03-10T17:45:57.102027Z",
     "shell.execute_reply": "2025-03-10T17:45:57.101312Z"
    }
   },
   "outputs": [
    {
     "name": "stdout",
     "output_type": "stream",
     "text": [
      "ln.lovely(x) :  array[6] i64 x∈[0, 25] μ=9.167 σ=8.896 [0, 1, 4, 9, 16, 25]\n"
     ]
    }
   ],
   "source": [
    "import lovely_numpy as ln\n",
    "print('ln.lovely(x) : ', ln.lovely(x))"
   ]
  },
  {
   "cell_type": "markdown",
   "metadata": {},
   "source": [
    "Here \n",
    "- `array[6]` means the array that contains 6 elements\n",
    "- `i64` means int64 type\n",
    "- `x∈[0, 25]` is range of values\n",
    "- `μ=9.167 σ=8.896` is mean and standard deviation for this array"
   ]
  },
  {
   "cell_type": "markdown",
   "metadata": {},
   "source": [
    "## Task\n",
    "\n",
    "Create `lovely_numpy` descriptions for the tensors in answer['vectors']"
   ]
  },
  {
   "cell_type": "code",
   "execution_count": null,
   "metadata": {
    "execution": {
     "iopub.execute_input": "2025-03-10T17:45:57.105025Z",
     "iopub.status.busy": "2025-03-10T17:45:57.104766Z",
     "iopub.status.idle": "2025-03-10T17:45:57.108493Z",
     "shell.execute_reply": "2025-03-10T17:45:57.107726Z"
    }
   },
   "outputs": [],
   "source": [
    "answer['lovely'] = [ln.lovely(v) for v in answer['vectors']]\n"
   ]
  },
  {
   "cell_type": "markdown",
   "metadata": {},
   "source": [
    "# 8. Operations with arrays"
   ]
  },
  {
   "cell_type": "markdown",
   "metadata": {},
   "source": [
    "You can perform binary elementwise operations with tensors as long as the tensors match in shape\n",
    "\n",
    "For instance, there are the following binary operations:\n",
    "- `+` -- sum\n",
    "- `-` -- difference\n",
    "- `*` -- product\n",
    "- `/` -- fraction\n",
    "- `%` -- calculate remainder\n",
    "- `//` -- whole part of division\n",
    "- `**` -- power\n",
    "- `>` -- comparison\n",
    "\n",
    "And there is whole set of the corresponding inplace operations\n",
    "\n",
    "Actually, you may think of using any python binary operators for numpy arrays"
   ]
  },
  {
   "cell_type": "code",
   "execution_count": 19,
   "metadata": {
    "execution": {
     "iopub.execute_input": "2025-03-10T17:45:57.111435Z",
     "iopub.status.busy": "2025-03-10T17:45:57.111198Z",
     "iopub.status.idle": "2025-03-10T17:45:57.117823Z",
     "shell.execute_reply": "2025-03-10T17:45:57.116997Z"
    }
   },
   "outputs": [
    {
     "data": {
      "text/plain": [
       "array([0, 2, 2, 0, 2, 2])"
      ]
     },
     "execution_count": 19,
     "metadata": {},
     "output_type": "execute_result"
    }
   ],
   "source": [
    "(x ** 2 + x ** 3) % 3"
   ]
  },
  {
   "cell_type": "markdown",
   "metadata": {},
   "source": [
    "## Task\n",
    "\n",
    "Calculate the following expression for every vector in `answer['vetors']`:\n",
    "\n",
    "$$(x^2 + 2^x) / x^3$$"
   ]
  },
  {
   "cell_type": "code",
   "execution_count": null,
   "metadata": {
    "execution": {
     "iopub.execute_input": "2025-03-10T17:45:57.121190Z",
     "iopub.status.busy": "2025-03-10T17:45:57.120703Z",
     "iopub.status.idle": "2025-03-10T17:45:57.124985Z",
     "shell.execute_reply": "2025-03-10T17:45:57.124040Z"
    }
   },
   "outputs": [],
   "source": [
    "answer['expression'] = [(vec ** 2 + 2 ** vec) / vec ** 3 for vec in answer['vectors']]\n"
   ]
  },
  {
   "cell_type": "markdown",
   "metadata": {},
   "source": [
    "# 9. Pointwise operations with arrays\n",
    "\n",
    "Lastly, you can perform any elementwise operations with arrays, such as:\n",
    "- $\\sin(x)$\n",
    "- $\\cos(x)$\n",
    "- $\\sqrt{x}$\n",
    "- and many others"
   ]
  },
  {
   "cell_type": "code",
   "execution_count": 21,
   "metadata": {
    "execution": {
     "iopub.execute_input": "2025-03-10T17:45:57.127780Z",
     "iopub.status.busy": "2025-03-10T17:45:57.127477Z",
     "iopub.status.idle": "2025-03-10T17:45:57.132478Z",
     "shell.execute_reply": "2025-03-10T17:45:57.131705Z"
    }
   },
   "outputs": [
    {
     "data": {
      "text/plain": [
       "array([ 0.        ,  0.84147098, -0.7568025 ,  0.41211849, -0.28790332,\n",
       "       -0.13235175])"
      ]
     },
     "execution_count": 21,
     "metadata": {},
     "output_type": "execute_result"
    }
   ],
   "source": [
    "np.sin(x)"
   ]
  },
  {
   "cell_type": "markdown",
   "metadata": {},
   "source": [
    "## Task\n",
    "\n",
    "Calculate the following expression for every of the tensors in `answer['vectors']`:\n",
    "$\\sqrt{\\sin^2(x) + \\cos^2(x)}$"
   ]
  },
  {
   "cell_type": "code",
   "execution_count": null,
   "metadata": {
    "execution": {
     "iopub.execute_input": "2025-03-10T17:45:57.135202Z",
     "iopub.status.busy": "2025-03-10T17:45:57.134967Z",
     "iopub.status.idle": "2025-03-10T17:45:57.138559Z",
     "shell.execute_reply": "2025-03-10T17:45:57.137733Z"
    }
   },
   "outputs": [],
   "source": [
    "answer['expression'] = [np.sqrt(np.sin(v)**2 + np.cos(v)**2) for v in answer['vectors']]\n"
   ]
  },
  {
   "cell_type": "markdown",
   "metadata": {},
   "source": [
    "# 10. Save the answer"
   ]
  },
  {
   "cell_type": "code",
   "execution_count": 23,
   "metadata": {
    "execution": {
     "iopub.execute_input": "2025-03-10T17:45:57.141947Z",
     "iopub.status.busy": "2025-03-10T17:45:57.141670Z",
     "iopub.status.idle": "2025-03-10T17:45:57.147228Z",
     "shell.execute_reply": "2025-03-10T17:45:57.146428Z"
    }
   },
   "outputs": [
    {
     "data": {
      "text/plain": [
       "'{\"vectors\": [], \"slices\": [], \"deep_copy\": [], \"shapes\": [], \"reshaped\": [], \"sliced_reshaped\": [], \"bool\": [], \"lovely\": [], \"expression\": []}'"
      ]
     },
     "execution_count": 23,
     "metadata": {},
     "output_type": "execute_result"
    }
   ],
   "source": [
    "json_tricks.dump(answer, '.answer.json')"
   ]
  }
 ],
 "metadata": {
  "kernelspec": {
   "display_name": "Python 3",
   "language": "python",
   "name": "python3"
  },
  "language_info": {
   "codemirror_mode": {
    "name": "ipython",
    "version": 3
   },
   "file_extension": ".py",
   "mimetype": "text/x-python",
   "name": "python",
   "nbconvert_exporter": "python",
   "pygments_lexer": "ipython3",
   "version": "3.13.2"
  }
 },
 "nbformat": 4,
 "nbformat_minor": 2
}
